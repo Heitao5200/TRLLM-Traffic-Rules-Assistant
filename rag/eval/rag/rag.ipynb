{
 "cells": [
  {
   "cell_type": "code",
   "execution_count": 1,
   "metadata": {},
   "outputs": [],
   "source": [
    "from tqdm import tqdm\n",
    "from langchain_community.document_loaders import DirectoryLoader\n",
    "from langchain.text_splitter import RecursiveCharacterTextSplitter\n",
    "from transformers import AutoTokenizer,AutoModelForCausalLM\n",
    "import torch\n",
    "from langchain_community.embeddings import HuggingFaceBgeEmbeddings\n",
    "from langchain.vectorstores import Chroma\n",
    "from langchain_core.output_parsers import StrOutputParser\n",
    "from langchain_core.runnables import RunnablePassthrough\n",
    "from langchain.llms.base import LLM \n",
    "from typing import Any,List,Optional\n",
    "from langchain.callbacks.manager import CallbackManagerForLLMRun\n",
    "from transformers import AutoTokenizer,AutoModelForCausalLM\n",
    "import torch\n",
    "from datasets import Dataset\n",
    "from langchain.prompts import PromptTemplate\n",
    "import os\n",
    "from langchain.chains import RetrievalQA\n",
    "import json, re"
   ]
  },
  {
   "cell_type": "code",
   "execution_count": 2,
   "metadata": {},
   "outputs": [],
   "source": [
    "raw_data_path='../data/raw_data/'\n",
    "persist_directory = '../data/rag_data/vector_db/chroma'\n",
    "embedding_model_path = \"/root/model/BAAI/\"\n",
    "embedding_model_model_kwargs = {\"device\": \"cuda\"}\n",
    "embedding_model_encode_kwargs = {\"normalize_embeddings\": True}\n",
    "llm_path='/root/model/internlm2-chat-7b'"
   ]
  },
  {
   "cell_type": "code",
   "execution_count": 3,
   "metadata": {},
   "outputs": [],
   "source": [
    "## 判断是否有本地数据库\n",
    "if not os.path.isdir(persist_directory):\n",
    "    #加载文档和分\n",
    "    loader = DirectoryLoader(raw_data_path,show_progress=True,use_multithreading=True)\n",
    "    docs = loader.load()\n",
    "    text_splitter = RecursiveCharacterTextSplitter(chunk_size=768,chunk_overlap=1, separators=[\"\\n\\n\", \"\\n\", \" \", \"\",\"。\",\"，\"])\n",
    "    split_docs = text_splitter.split_documents(docs)\n",
    "    embeddings = HuggingFaceBgeEmbeddings(\n",
    "    model_name=embedding_model_path, model_kwargs=embedding_model_model_kwargs, encode_kwargs=embedding_model_encode_kwargs\n",
    "    )\n",
    "\n",
    "    # 加载数据库\n",
    "    vectordb = Chroma.from_documents(\n",
    "        documents=split_docs,\n",
    "        embedding=embeddings,\n",
    "        persist_directory=persist_directory  # 允许我们将persist_directory目录保存到磁盘上\n",
    "    )\n",
    "    # 将加载的向量数据库持久化到磁盘上\n",
    "    vectordb.persist()\n",
    "\n",
    "else:\n",
    "    #加载已经有的向量数据库\n",
    "    embeddings = HuggingFaceBgeEmbeddings(\n",
    "    model_name=embedding_model_path, model_kwargs=embedding_model_model_kwargs, encode_kwargs=embedding_model_encode_kwargs\n",
    "    )\n",
    "    vectordb = Chroma(persist_directory= persist_directory, embedding_function=embeddings)"
   ]
  },
  {
   "cell_type": "code",
   "execution_count": 4,
   "metadata": {},
   "outputs": [
    {
     "name": "stdout",
     "output_type": "stream",
     "text": [
      "1354、佟某驾驶一辆大客车（乘载 54 人，核载 55 人）行至太原境内以 45 公里的 时速通过一处泥泞路段时，机动车侧滑驶出路外坠入深沟，导致 14 人死亡、40 人 受伤。本次事故佟某的主要违法行为是什么？\n",
      "\n",
      "A、客车超员\n",
      "\n",
      "B、超速行驶\n",
      "\n",
      "C、酒后驾驶\n",
      "\n",
      "D、疲劳驾驶\n",
      "\n",
      "【答案】B\n",
      "\n",
      "【技巧 1】复杂路段、特殊天气、特殊操作，限速 30；不得超速。\n",
      "\n",
      "【技巧 2】解析：题中泥泞路段以 45 公里/小时行驶，属于超速行驶。避免侧滑， 泥泞道路最高行驶速度为 30 公里/小时。\n",
      "\n",
      "【讲解 1】本题主要考察实际案例中对驾驶员违法行为的判断。按照规定，泥泞路 面最高速度不能超过 30 公里/小时，题中以 45 公里的时速通过一处泥泞路段，是 超速行驶。因此选择“超速行驶”。\n",
      "\n",
      "【讲解 2】相关法规参考：《道路交通安全法实施条例》第四十六条，机动车行驶 中遇有下列情形之一的，最高行驶速度不得超过每小时 30 公里，其中拖拉机、电 瓶车、轮式专用机械车不得超过每小时 15 公里：（四）在冰雪、泥泞的道路上行 驶时。\n",
      "\n",
      "1355、郝某驾驶一辆载有 84.84 吨货物的重型自卸货车（核载 15.58 吨），行至滦 县境内 262 省道 34 公里加 623 米处，与前方同向行驶的一辆载有 45.85 吨货物的 货车（核载 1.71 吨）追尾碰撞后，侧翻撞向路边人群，造成 19 人死亡、17 人受 伤。本次事故双方驾驶人共同的违法行为是什么？\n",
      "\n",
      "A、超速行驶\n",
      "\n",
      "B、货车超载\n",
      "\n",
      "C、疲劳驾驶\n",
      "\n",
      "D、酒后驾驶\n",
      "\n",
      "【答案】B\n",
      "\n",
      "【技巧 1】实载不得超过核载。\n"
     ]
    }
   ],
   "source": [
    "# 测试一下向量数据库 用相似度来匹配相似的句子\n",
    "query = \"佟某驾驶一辆大客车（乘载54人，核载55人)行至太原境内以45公里的时速通过一处泥泞路段时，机动车侧滑驶出路外坠入深沟，导致14人死亡、40人受伤。佟某的主要违法行为是什么？\"\n",
    "docs = vectordb.similarity_search(query)\n",
    "print(docs[0].page_content)"
   ]
  },
  {
   "cell_type": "code",
   "execution_count": 5,
   "metadata": {},
   "outputs": [
    {
     "data": {
      "application/vnd.jupyter.widget-view+json": {
       "model_id": "d7a2299d230e4e2db05aaa6b55d12bf9",
       "version_major": 2,
       "version_minor": 0
      },
      "text/plain": [
       "Loading checkpoint shards:   0%|          | 0/8 [00:00<?, ?it/s]"
      ]
     },
     "metadata": {},
     "output_type": "display_data"
    }
   ],
   "source": [
    "## 加载LLM\n",
    "class InternLM_LLM(LLM):\n",
    "    tokenizer : AutoTokenizer = None\n",
    "    model: AutoModelForCausalLM = None\n",
    "\n",
    "    def __init__(self,model_path:str):\n",
    "\n",
    "        super().__init__()\n",
    "        self.tokenizer = AutoTokenizer.from_pretrained(model_path, trust_remote_code=True)\n",
    "        self.model = AutoModelForCausalLM.from_pretrained(model_path, trust_remote_code=True,attn_implementation=\"flash_attention_2\",torch_dtype=torch.bfloat16).cuda()#\n",
    "        self.model = self.model.eval()\n",
    "\n",
    "    def _call(self, prompt : str, stop: Optional[List[str]] = None,\n",
    "                run_manager: Optional[CallbackManagerForLLMRun] = None,\n",
    "                **kwargs: Any):\n",
    "        # 重写调用函数\n",
    "        system_prompt = \"\"\"你是交通法则小助手，熟知中华人民共和国公安部令和国务院令的交通法规知识，\n",
    "        以及详尽的道路驾驶技能和安全文明常识考试内容。\n",
    "        \"\"\"\n",
    "        \n",
    "        messages = [(system_prompt, '')]\n",
    "        response, history = self.model.chat(self.tokenizer, prompt , history=messages)\n",
    "        return response\n",
    "        \n",
    "    @property\n",
    "    def _llm_type(self) -> str:\n",
    "        return \"InternLM\"\n",
    "    \n",
    "llm=InternLM_LLM(llm_path)"
   ]
  },
  {
   "cell_type": "code",
   "execution_count": 6,
   "metadata": {},
   "outputs": [],
   "source": [
    "# 定义一个 Prompt Template\n",
    "template = \"\"\"使用以下上下文来回答最后的问题。如果你不知道答案，就说你不知道，不要试图编造答\n",
    "                案。请提供详细而清晰的回答。确保回答涵盖相关法规和实际技能，尽量详细回答问题，并尽量避免简单带过问题。总是在回答的最后说“谢谢你的提问！”。\n",
    "                {context}\n",
    "                问题: {question}\n",
    "                有用的回答:\"\"\"\n",
    "\n",
    "custom_rag_prompt = PromptTemplate.from_template(template)\n",
    "retriever = vectordb.as_retriever(search_type=\"similarity\", search_kwargs={\"k\": 5})"
   ]
  },
  {
   "cell_type": "code",
   "execution_count": 7,
   "metadata": {},
   "outputs": [
    {
     "name": "stderr",
     "output_type": "stream",
     "text": [
      "/root/.conda/envs/LLM/lib/python3.10/site-packages/langchain_core/_api/deprecation.py:117: LangChainDeprecationWarning: The function `__call__` was deprecated in LangChain 0.1.0 and will be removed in 0.2.0. Use invoke instead.\n",
      "  warn_deprecated(\n"
     ]
    },
    {
     "data": {
      "text/plain": [
       "{'query': '佟某驾驶一辆大客车（乘载54人，核载55人)行至太原境内以45公里的时速通过一处泥泞路段时，机动车侧滑驶出路外坠入深沟，导致14人死亡、40人受伤。佟某的主要违法行为是什么？',\n",
       " 'result': '佟某的主要违法行为是超速行驶。根据《中华人民共和国道路交通安全法》第四十二条的规定，驾驶人在通过泥泞路段时，应当按照道路条件降低行驶速度。而佟某在泥泞路段以每小时45公里的速度行驶，超过了泥泞路段的最高限速，导致了事故的发生。因此，佟某的主要违法行为是超速行驶。此外，车辆核载55人，但佟某驾驶的车辆载有54人，也存在超载的情况，但这并不是导致事故的主要原因。\\n\\n在驾驶车辆时，特别是在遇到复杂的路况和天气条件时，一定要遵守交通法规，严格控制车速，保障自身和他人的安全。 ',\n",
       " 'source_documents': [Document(page_content='1354、佟某驾驶一辆大客车（乘载 54 人，核载 55 人）行至太原境内以 45 公里的 时速通过一处泥泞路段时，机动车侧滑驶出路外坠入深沟，导致 14 人死亡、40 人 受伤。本次事故佟某的主要违法行为是什么？\\n\\nA、客车超员\\n\\nB、超速行驶\\n\\nC、酒后驾驶\\n\\nD、疲劳驾驶\\n\\n【答案】B\\n\\n【技巧 1】复杂路段、特殊天气、特殊操作，限速 30；不得超速。\\n\\n【技巧 2】解析：题中泥泞路段以 45 公里/小时行驶，属于超速行驶。避免侧滑， 泥泞道路最高行驶速度为 30 公里/小时。\\n\\n【讲解 1】本题主要考察实际案例中对驾驶员违法行为的判断。按照规定，泥泞路 面最高速度不能超过 30 公里/小时，题中以 45 公里的时速通过一处泥泞路段，是 超速行驶。因此选择“超速行驶”。\\n\\n【讲解 2】相关法规参考：《道路交通安全法实施条例》第四十六条，机动车行驶 中遇有下列情形之一的，最高行驶速度不得超过每小时 30 公里，其中拖拉机、电 瓶车、轮式专用机械车不得超过每小时 15 公里：（四）在冰雪、泥泞的道路上行 驶时。\\n\\n1355、郝某驾驶一辆载有 84.84 吨货物的重型自卸货车（核载 15.58 吨），行至滦 县境内 262 省道 34 公里加 623 米处，与前方同向行驶的一辆载有 45.85 吨货物的 货车（核载 1.71 吨）追尾碰撞后，侧翻撞向路边人群，造成 19 人死亡、17 人受 伤。本次事故双方驾驶人共同的违法行为是什么？\\n\\nA、超速行驶\\n\\nB、货车超载\\n\\nC、疲劳驾驶\\n\\nD、酒后驾驶\\n\\n【答案】B\\n\\n【技巧 1】实载不得超过核载。', metadata={'source': '../data/raw_data/md/course4-451-740.md'}),\n",
       "  Document(page_content='1354、佟某驾驶一辆大客车（乘载 54 人，核载 55 人）行至太原境内以 45 公里的 时速通过一处泥泞路段时，机动车侧滑驶出路外坠入深沟，导致 14 人死亡、40 人 受伤。本次事故佟某的主要违法行为是什么？\\n\\nA、客车超员\\n\\nB、超速行驶\\n\\nC、酒后驾驶\\n\\nD、疲劳驾驶\\n\\n【答案】B\\n\\n【技巧 1】复杂路段、特殊天气、特殊操作，限速 30；不得超速。\\n\\n【技巧 2】解析：题中泥泞路段以 45 公里/小时行驶，属于超速行驶。避免侧滑， 泥泞道路最高行驶速度为 30 公里/小时。\\n\\n【讲解 1】本题主要考察实际案例中对驾驶员违法行为的判断。按照规定，泥泞路 面最高速度不能超过 30 公里/小时，题中以 45 公里的时速通过一处泥泞路段，是 超速行驶。因此选择“超速行驶”。\\n\\n【讲解 2】相关法规参考：《道路交通安全法实施条例》第四十六条，机动车行驶 中遇有下列情形之一的，最高行驶速度不得超过每小时 30 公里，其中拖拉机、电 瓶车、轮式专用机械车不得超过每小时 15 公里：（四）在冰雪、泥泞的道路上行 驶时。\\n\\n1355、郝某驾驶一辆载有 84.84 吨货物的重型自卸货车（核载 15.58 吨），行至滦 县境内 262 省道 34 公里加 623 米处，与前方同向行驶的一辆载有 45.85 吨货物的 货车（核载 1.71 吨）追尾碰撞后，侧翻撞向路边人群，造成 19 人死亡、17 人受 伤。本次事故双方驾驶人共同的违法行为是什么？\\n\\nA、超速行驶\\n\\nB、货车超载\\n\\nC、疲劳驾驶\\n\\nD、酒后驾驶\\n\\n【答案】B\\n\\n【技巧 1】实载不得超过核载。', metadata={'source': '../data/raw_data/md/course4-451-740.md'}),\n",
       "  Document(page_content='C、客车超员\\n\\nD、超速行驶\\n\\n答案：C\\n21、佟某驾驶一辆大客车（乘载54人，核载55人)行至太原境内以45公里的时速通过一处泥泞路段时，机动车侧滑驶出路外坠入深沟，导致14人死亡、40人受伤。佟某的主要违法行为是什么？\\nA、客车超员\\n\\nB、超速行驶\\n\\nC、酒后驾驶\\n\\nD、疲劳驾驶\\n\\n答案：B\\n22、郝某驾驶一辆载有84.84吨货物的重型自卸货车（核载15.58吨），行至滦县境内262省道34公里加623米处，与前方同向行驶的一辆载有45.85吨货物的货车（核载1.71吨）追尾碰撞后，侧翻撞向路边人群，造成19人死亡、17人受伤。双方驾驶人共同的违法行为是什么？\\nA、超速行驶\\n\\nB、货车超载\\n\\nC、疲劳驾驶\\n\\nD、酒后驾车\\n\\n答案：B\\n23、周某驾驶一辆轻型厢式货车（搭载22人）行驶至丙察公路79公里加150米处时，坠入道路一侧山崖，造成12人死亡、10人受伤。周某的主要违法行为是什么？\\nA、驾驶逾期未检验的机动车\\n\\nB、货运机动车载客\\n\\nC、超速行驶\\n\\nD、疲劳驾驶\\n\\n答案：B\\n24、赵某（持有A2驾驶证）驾驶大型卧铺客车，行驶至叶城县境内219国道226公里加215米处转弯路段时，坠入道路一侧山沟，致16人死亡，26人受伤。赵某的主要违法行为是什么？\\nA、客车超员\\n\\nB、驾驶逾期未检验的机动车\\n\\nC、驾驶与准驾车型不符的机动车\\n\\nD、疲劳驾驶\\n\\n答案：C\\n25、叶某驾驶中型厢式货车，行至陂头镇上汶线3公里加600米弯道路段时，以40公里/小时的速度与王某驾驶的乘载19人正三轮载货摩托车发生正面相撞，造成10人死亡、9人受伤。双方驾驶人的主要违法行为是什么？\\nA、叶某驾驶与准驾车型不符的机动车\\n\\nB、王某驾驶摩托车非法载客\\n\\nC、叶某超速行驶\\n\\nD、王某不按信号灯指示行驶', metadata={'source': '../data/raw_data/科目/科目四驾考宝典1590题.docx'}),\n",
       "  Document(page_content='B、不按交通标线行驶\\n\\nC、客车超员\\n\\nD、疲劳驾驶\\n\\n答案：A。一个小时开了125公里，125公里每小时的时速.客车不能超过100公里每小时。\\n18、何某驾驶一辆乘载53人的大客车（核载47人），行至宁合高速公路南京境内454公里加100米处，被一辆重型半挂牵引车追尾，导致大客车翻出路侧护栏并起火燃烧，造成17人死亡、27人受伤。何某的主要违法行为是什么？\\nA、超速行驶\\n\\nB、客车超员\\n\\nC、驾驶逾期未年检机动车\\n\\nD、操作不当\\n\\n答案：B\\n19、罗某驾驶大型卧铺客车（乘载44人，核载44人）行至沿河县境内540县道58公里加500米处时，在结冰路面以每小时44公里速度行驶，导致机动车侧滑翻下公路，造成15人死亡、27人受伤。罗某的主要违法行为是什么？\\nA、客车超员\\n\\nB、超速行驶\\n\\nC、疲劳驾驶\\n\\nD、操作不当\\n\\n答案：B\\n20、徐某驾驶一辆中型客车（乘载27人）行至四都镇前岭村壶南头路段，在上坡过程中，机动车发生后溜驶出路外坠入落差约80米的山崖，造成11人死亡、7人受伤。徐某的主要违法行为是什么？\\nA、疲劳驾驶\\n\\nB、酒后驾驶\\n\\nC、客车超员\\n\\nD、超速行驶\\n\\n答案：C\\n21、佟某驾驶一辆大客车（乘载54人，核载55人)行至太原境内以45公里的时速通过一处泥泞路段时，机动车侧滑驶出路外坠入深沟，导致14人死亡、40人受伤。佟某的主要违法行为是什么？\\nA、客车超员\\n\\nB、超速行驶\\n\\nC、酒后驾驶\\n\\nD、疲劳驾驶', metadata={'source': '../data/raw_data/科目/科目四驾考宝典1590题.docx'}),\n",
       "  Document(page_content='C、李某超速\\nD、李某疲劳驾驶\\n答案：AD\\n32、陶某驾驶中型客车（乘载33人），行至许平南高速公路163公里处时，以120公里/小时的速度与停在最内侧车道上安某驾驶的因事故无法移动的小客车（未设置警示标志）相撞，中型客车撞开右侧护栏侧翻，造成16死亡、15人受伤。双方驾驶人的主要违法行为是什么？\\nA、陶某客车超员\\nB、陶某超速行驶\\nC、安某未按规定设置警示（告）标志\\nD、安某违法停车\\n\\n答案：ABC\\n\\n33、邹某驾驶大型卧铺客车（核载35人，实载47人），行至京港澳高速公路938公里时，因乘车人携带的大量危险化学品在车厢内突然发生爆燃，造成41人死亡，6人受伤。此事故中的主要违法行为是什么？\\n\\nA、客车超员\\n\\nB、乘车人携带易燃易爆危险物品\\n\\nC、超速行驶\\n\\nD、不按规定停车\\n\\n答案：AB\\n\\n34、杨某驾驶改装小型客车（核载9人，实载64人，其中62人为幼儿园学生），行至榆林子镇马槽沟村处，占用对向车道逆行时与一辆重型自卸货车正面碰撞，造成22人死亡、44人受伤。该起事故中的主要违法行为是什么？\\n\\nA、货车超速行驶\\n\\nB、非法改装机动车\\n\\nC、客车超员\\n\\nD、客车逆向行驶\\n\\n答案：BCD\\n\\n35、戚某驾驶大客车，乘载28人（核载55人），由南向北行至一无交通信号控制的交叉路口，以50公里的时速与由东向西行至该路口李某驾驶的重型半挂牵引车（核载40吨，实载55.2吨）侧面相撞，造成12人死亡、17人受伤。此事故中的主要违法行为是什么？\\n\\nA、客车超员\\n\\nB、客车超速行驶\\n\\nC、货车超载\\n\\nD、货车驾驶人经验不足\\n\\n答案：BC', metadata={'source': '../data/raw_data/科目/科目四驾考宝典1590题.docx'})]}"
      ]
     },
     "execution_count": 7,
     "metadata": {},
     "output_type": "execute_result"
    }
   ],
   "source": [
    "# 根据RAG的第一种写法\n",
    "qa_chain = RetrievalQA.from_chain_type(llm, retriever=retriever, return_source_documents=True,\n",
    "                                           chain_type_kwargs={\"prompt\": custom_rag_prompt})\n",
    "qa_chain(query)"
   ]
  },
  {
   "cell_type": "code",
   "execution_count": 8,
   "metadata": {},
   "outputs": [
    {
     "data": {
      "text/plain": [
       "'佟某的主要违法行为是超速行驶。根据交通法规，在泥泞路段行驶时，最高车速不得超过每小时30公里，而佟某以45公里的时速通过泥泞路段，违反了这一规定，导致了事故的发生。 '"
      ]
     },
     "execution_count": 8,
     "metadata": {},
     "output_type": "execute_result"
    }
   ],
   "source": [
    "# 根据RAG的第二种写法\n",
    "def format_docs(docs):\n",
    "    return \"\\n\\n\".join(doc.page_content for doc in docs)\n",
    "\n",
    "rag_chain = (\n",
    "    {\"context\": retriever | format_docs, \"question\": RunnablePassthrough()}\n",
    "    | custom_rag_prompt\n",
    "    | llm\n",
    "    | StrOutputParser()\n",
    ")\n",
    "\n",
    "rag_chain.invoke(query)"
   ]
  },
  {
   "cell_type": "code",
   "execution_count": 33,
   "metadata": {},
   "outputs": [],
   "source": [
    "# 把数据里面的query都RAG了  用于后面评测\n",
    "eval_filename='../data/rag_data/eval/llm_conversation_dataset_v3.json'\n",
    "\n",
    "# 评测数据集的格式\n",
    "questions = []\n",
    "ground_truth = []\n",
    "answers = []\n",
    "contexts = []\n",
    "\n",
    "llm_answers=[]\n",
    "with open(eval_filename, 'r', encoding='utf-8') as file:\n",
    "    json_data=json.load(file)"
   ]
  },
  {
   "cell_type": "code",
   "execution_count": null,
   "metadata": {},
   "outputs": [],
   "source": [
    "# 获取LLM原本的回答\n",
    "cnt=50 #只取前面50个RAG\n",
    "for item in tqdm(json_data):\n",
    "    if cnt<0:break\n",
    "    llm_answers.append({'llm_answers': llm(item['conversation'][0]['input'])})\n",
    "    cnt-=1\n",
    "# 将数据保存到文件\n",
    "with open('../data/rag_data/eval/llm_answers.json', 'w',encoding='utf-8') as f:\n",
    "    f.write(json.dumps(llm_answers))\n"
   ]
  },
  {
   "cell_type": "code",
   "execution_count": 34,
   "metadata": {},
   "outputs": [
    {
     "name": "stderr",
     "output_type": "stream",
     "text": [
      "  3%|▎         | 51/1596 [06:11<3:07:31,  7.28s/it]\n"
     ]
    },
    {
     "data": {
      "application/vnd.jupyter.widget-view+json": {
       "model_id": "37f846d8ce494793a355a688e3d8bab4",
       "version_major": 2,
       "version_minor": 0
      },
      "text/plain": [
       "Saving the dataset (0/1 shards):   0%|          | 0/51 [00:00<?, ? examples/s]"
      ]
     },
     "metadata": {},
     "output_type": "display_data"
    }
   ],
   "source": [
    "# 获取RAG回答\n",
    "cnt=50 #只取前面50个RAG\n",
    "for item in tqdm(json_data):\n",
    "    if cnt<0:break\n",
    "\n",
    "    item_question=item['conversation'][0]['input']\n",
    "    item_result=qa_chain(item_question)\n",
    "\n",
    "    questions.append(item_question)\n",
    "    answers.append(item_result['result'])\n",
    "    contexts.append([item_result['source_documents'][0].page_content])\n",
    "    ground_truth.append(item['conversation'][0]['output'])\n",
    "    cnt-=1\n",
    "\n",
    "# To dict\n",
    "data = {\n",
    "    \"question\": questions,\n",
    "    \"answer\": answers,\n",
    "    \"contexts\": contexts,\n",
    "    \"ground_truth\": ground_truth\n",
    "}\n",
    " \n",
    "# Convert dict to dataset\n",
    "dataset = Dataset.from_dict(data)\n",
    "# 保存到本地\n",
    "dataset.save_to_disk(\"../data/rag_data/eval/eval_dataset2\")"
   ]
  }
 ],
 "metadata": {
  "kernelspec": {
   "display_name": "LLM",
   "language": "python",
   "name": "python3"
  },
  "language_info": {
   "codemirror_mode": {
    "name": "ipython",
    "version": 3
   },
   "file_extension": ".py",
   "mimetype": "text/x-python",
   "name": "python",
   "nbconvert_exporter": "python",
   "pygments_lexer": "ipython3",
   "version": "3.10.13"
  }
 },
 "nbformat": 4,
 "nbformat_minor": 2
}
